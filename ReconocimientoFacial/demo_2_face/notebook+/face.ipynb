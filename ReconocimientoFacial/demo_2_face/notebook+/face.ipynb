{
 "metadata": {
  "language_info": {
   "codemirror_mode": {
    "name": "ipython",
    "version": 3
   },
   "file_extension": ".py",
   "mimetype": "text/x-python",
   "name": "python",
   "nbconvert_exporter": "python",
   "pygments_lexer": "ipython3",
   "version": "3.7.1"
  },
  "orig_nbformat": 2,
  "kernelspec": {
   "name": "python3",
   "display_name": "Python 3.7.1 64-bit ('base': conda)",
   "metadata": {
    "interpreter": {
     "hash": "9076b40b61fa14d3e16754f8feb33a6f1491ef088574ccfd28c8e9f11b7c9a12"
    }
   }
  }
 },
 "nbformat": 4,
 "nbformat_minor": 2,
 "cells": [
  {
   "source": [
    "# Demo del taller \"Reconocimiento facial\"\n",
    "## DataCup2021\n",
    "## pip install --upgrade azure-cognitiveservices-vision-face"
   ],
   "cell_type": "markdown",
   "metadata": {}
  },
  {
   "cell_type": "code",
   "execution_count": 1,
   "metadata": {},
   "outputs": [],
   "source": [
    "import glob\n",
    "from azure.cognitiveservices.vision.face import FaceClient\n",
    "from msrest.authentication import CognitiveServicesCredentials\n",
    "import time\n",
    "from azure.cognitiveservices.vision.face.models import TrainingStatusType, Person"
   ]
  },
  {
   "source": [
    "La siguiente llave y endpoint caducaran en el transcurso de la competencia. Recomendamos utilizar tus propia llave y ENDPOINT"
   ],
   "cell_type": "markdown",
   "metadata": {}
  },
  {
   "cell_type": "code",
   "execution_count": 2,
   "metadata": {},
   "outputs": [],
   "source": [
    "# Key ...........................................\n",
    "KEY = \"b4fa4dc568af40509318c41760728780\"\n",
    "# Endpoint .......................................\n",
    "ENDPOINT = \"https://face-datacup-demo.cognitiveservices.azure.com/\"\n",
    "# Creating a face client ...\n",
    "face_client = FaceClient(ENDPOINT,CognitiveServicesCredentials(KEY))"
   ]
  },
  {
   "cell_type": "code",
   "execution_count": 3,
   "metadata": {},
   "outputs": [],
   "source": [
    "#Extrayendo las imagenes de entrenamiento ...\n",
    "directory = \"C:/Users/user/Documents/demo_2_face/notebook+/faces/\"\n",
    "file_list = glob.glob(directory + \"*\")"
   ]
  },
  {
   "cell_type": "code",
   "execution_count": 4,
   "metadata": {},
   "outputs": [
    {
     "output_type": "execute_result",
     "data": {
      "text/plain": [
       "['C:/Users/user/Documents/demo_2_face/notebook+/faces\\\\hector_faces',\n",
       " 'C:/Users/user/Documents/demo_2_face/notebook+/faces\\\\luz_faces',\n",
       " 'C:/Users/user/Documents/demo_2_face/notebook+/faces\\\\rick_faces',\n",
       " 'C:/Users/user/Documents/demo_2_face/notebook+/faces\\\\test_images']"
      ]
     },
     "metadata": {},
     "execution_count": 4
    }
   ],
   "source": [
    "file_list"
   ]
  },
  {
   "cell_type": "code",
   "execution_count": 5,
   "metadata": {},
   "outputs": [],
   "source": [
    "faces = list()\n",
    "for i in range(3):\n",
    "    new_dir = file_list[i]\n",
    "    new_file_list = glob.glob(new_dir + \"/\" + \"*.jpg\")\n",
    "    faces.append(new_file_list)"
   ]
  },
  {
   "cell_type": "code",
   "execution_count": 6,
   "metadata": {},
   "outputs": [
    {
     "output_type": "execute_result",
     "data": {
      "text/plain": [
       "[['C:/Users/user/Documents/demo_2_face/notebook+/faces\\\\hector_faces\\\\hector.jpg',\n",
       "  'C:/Users/user/Documents/demo_2_face/notebook+/faces\\\\hector_faces\\\\hector_1.jpg',\n",
       "  'C:/Users/user/Documents/demo_2_face/notebook+/faces\\\\hector_faces\\\\hector_3.jpg'],\n",
       " ['C:/Users/user/Documents/demo_2_face/notebook+/faces\\\\luz_faces\\\\L01096586_4804.jpg',\n",
       "  'C:/Users/user/Documents/demo_2_face/notebook+/faces\\\\luz_faces\\\\L01096586_4807.jpg',\n",
       "  'C:/Users/user/Documents/demo_2_face/notebook+/faces\\\\luz_faces\\\\L01096586_4809.jpg'],\n",
       " ['C:/Users/user/Documents/demo_2_face/notebook+/faces\\\\rick_faces\\\\rick_1.jpg',\n",
       "  'C:/Users/user/Documents/demo_2_face/notebook+/faces\\\\rick_faces\\\\rick_2.jpg',\n",
       "  'C:/Users/user/Documents/demo_2_face/notebook+/faces\\\\rick_faces\\\\rick_3.jpg']]"
      ]
     },
     "metadata": {},
     "execution_count": 6
    }
   ],
   "source": [
    "faces"
   ]
  },
  {
   "source": [
    "# Creando un PersonGroup ...\n",
    "Esta estructura debe ser entrenada para realizar operaciones de reconocimiento"
   ],
   "cell_type": "markdown",
   "metadata": {}
  },
  {
   "cell_type": "code",
   "execution_count": 7,
   "metadata": {},
   "outputs": [],
   "source": [
    "#Eligiendo un ID...\n",
    "PERSON_GROUP_ID = \"facial_recognition_az_data_cup_group_new\"  \n",
    "#Eligiendo un modelo de reconocimiento facial\n",
    "model = \"recognition_03\""
   ]
  },
  {
   "cell_type": "code",
   "execution_count": 8,
   "metadata": {},
   "outputs": [],
   "source": [
    "#ESTA LINEA SOLO ES NECESARIA CORRERLA UNA SOLA VEZ PARA CREAR UN GRUPO CON ID UNICO (Descomentar si se desea crear un nuevo grupo)\n",
    "\n",
    "face_client.person_group.create(person_group_id=PERSON_GROUP_ID, name=\"grupo_demo_1\", recognition_model= model) "
   ]
  },
  {
   "cell_type": "code",
   "execution_count": 9,
   "metadata": {},
   "outputs": [],
   "source": [
    "#face_client.person_group.delete(PERSON_GROUP_ID)     #LINEA DE CÓDIGO PARA ELIMINAR UN GRUPO DE PERSONAS "
   ]
  },
  {
   "source": [
    "# Definiendo las personas que estaran dentro del grupod de entrenamiento \n",
    "names = [(\"Héctor\",\"L03143082\" ),(\"Ricardo\", \"A01066515\"),(\"Luz\", \"L01096586\")]\n",
    "for name, nomina in names:\n",
    "    face_client.person_group_person.create(PERSON_GROUP_ID, name = name, user_data= nomina)\n"
   ],
   "cell_type": "code",
   "metadata": {},
   "execution_count": 10,
   "outputs": []
  },
  {
   "cell_type": "code",
   "execution_count": 11,
   "metadata": {},
   "outputs": [
    {
     "output_type": "stream",
     "name": "stdout",
     "text": [
      "A01066515 Ricardo   8e68661a-8f4d-48d6-bc54-d876dccf9278\nL03143082 Héctor   d6cf75f2-8445-45ab-9c06-fdcfa9a08a09\nL01096586 Luz   e0794cd1-7d29-4409-a5e4-9be5da84de85\n"
     ]
    }
   ],
   "source": [
    "#Desplegando a las personas dentro de un grupo ...\n",
    "people = face_client.person_group_person.list(PERSON_GROUP_ID)\n",
    "ids = list()\n",
    "for  person in people:\n",
    "    print(person.user_data,person.name,\" \",person.person_id)\n",
    "\n",
    "    if person.name == \"Héctor\":\n",
    "       hector_id = person.person_id\n",
    "    elif person.name == \"Luz\":\n",
    "        luz_id = person.person_id\n",
    "    elif person.name == \"Ricardo\":\n",
    "        rick_id = person.person_id\n",
    "\n"
   ]
  },
  {
   "cell_type": "code",
   "execution_count": 12,
   "metadata": {},
   "outputs": [
    {
     "output_type": "execute_result",
     "data": {
      "text/plain": [
       "'8e68661a-8f4d-48d6-bc54-d876dccf9278'"
      ]
     },
     "metadata": {},
     "execution_count": 12
    }
   ],
   "source": [
    "rick_id"
   ]
  },
  {
   "source": [
    "# Agregando rostros a cada persona "
   ],
   "cell_type": "markdown",
   "metadata": {}
  },
  {
   "cell_type": "code",
   "execution_count": 13,
   "metadata": {},
   "outputs": [],
   "source": [
    "for count, files in enumerate(faces):\n",
    "    for face in  files:\n",
    "        image = open(face, 'r+b')\n",
    "        if count == 0:\n",
    "            face_client.person_group_person.add_face_from_stream(PERSON_GROUP_ID, hector_id,image)\n",
    "        elif count == 1:\n",
    "            face_client.person_group_person.add_face_from_stream(PERSON_GROUP_ID, luz_id,image)\n",
    "        elif count == 2:\n",
    "            face_client.person_group_person.add_face_from_stream(PERSON_GROUP_ID, rick_id,image)    \n"
   ]
  },
  {
   "source": [
    "# Entrenando el modelo"
   ],
   "cell_type": "markdown",
   "metadata": {}
  },
  {
   "cell_type": "code",
   "execution_count": 14,
   "metadata": {},
   "outputs": [
    {
     "output_type": "stream",
     "name": "stdout",
     "text": [
      "Training status: running.\n",
      "\n",
      "Training status: succeeded.\n",
      "\n"
     ]
    }
   ],
   "source": [
    "# Training the person group ...\n",
    "face_client.person_group.train(PERSON_GROUP_ID)\n",
    "\n",
    "while (True):\n",
    "    training_status = face_client.person_group.get_training_status(PERSON_GROUP_ID)\n",
    "    print(\"Training status: {}.\".format(training_status.status))\n",
    "    print()\n",
    "    if (training_status.status is TrainingStatusType.succeeded):\n",
    "        break\n",
    "    elif (training_status.status is TrainingStatusType.failed):\n",
    "        sys.exit('Training the person group has failed.')\n",
    "    time.sleep(5)"
   ]
  },
  {
   "source": [
    "# Operaciones de detección e identificación"
   ],
   "cell_type": "markdown",
   "metadata": {}
  },
  {
   "cell_type": "code",
   "execution_count": 15,
   "metadata": {},
   "outputs": [],
   "source": [
    "\n",
    "test_image = glob.glob(\"test_2.jpg\")\n",
    "image = open(test_image[0], 'r+b')\n",
    "\n",
    "time.sleep (60)\n",
    "#Caras detectadas\n",
    "face_ids = list()\n",
    "faces = face_client.face.detect_with_stream(image, detection_model='detection_03',recognition_model= 'recognition_03')\n",
    "for face in faces:\n",
    "    face_ids.append(face.face_id)\n"
   ]
  },
  {
   "cell_type": "code",
   "execution_count": 16,
   "metadata": {},
   "outputs": [
    {
     "output_type": "execute_result",
     "data": {
      "text/plain": [
       "[<azure.cognitiveservices.vision.face.models._models_py3.IdentifyResult at 0x1e611456400>]"
      ]
     },
     "metadata": {},
     "execution_count": 16
    }
   ],
   "source": [
    " face_client.face.identify(face_ids, PERSON_GROUP_ID)"
   ]
  },
  {
   "cell_type": "code",
   "execution_count": 17,
   "metadata": {},
   "outputs": [
    {
     "output_type": "stream",
     "name": "stdout",
     "text": [
      " Ricardo con matricula A01066515 es identificado en  test_2.jpg con una certeza de 0.92123\n"
     ]
    }
   ],
   "source": [
    "#Operacion de identificacion\n",
    "results = face_client.face.identify(face_ids, PERSON_GROUP_ID)\n",
    "if not results:\n",
    "    print(\"No existen resultados :(\")\n",
    "for person in results:\n",
    "    if len(person.candidates) > 0:\n",
    "        person_id_ = person.candidates[0].person_id\n",
    "        indi_identificado = face_client.person_group_person.get(PERSON_GROUP_ID,person_id_)\n",
    "        print(' {} con matricula {} es identificado en  {} con una certeza de {}'.format(indi_identificado.name,indi_identificado.user_data,\n",
    "         os.path.basename(image.name), person.candidates[0].confidence))\n",
    "    else:\n",
    "        print('No se identificó a la persona :(' )"
   ]
  },
  {
   "cell_type": "code",
   "execution_count": 18,
   "metadata": {},
   "outputs": [],
   "source": [
    "face_client.person_group.delete(PERSON_GROUP_ID) #Borrar el grupo despues de correr una vez el script"
   ]
  }
 ]
}